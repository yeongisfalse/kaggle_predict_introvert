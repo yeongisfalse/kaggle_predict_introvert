{
 "cells": [
  {
   "cell_type": "code",
   "execution_count": 1,
   "id": "422a2c2b",
   "metadata": {
    "_cell_guid": "b1076dfc-b9ad-4769-8c92-a6c4dae69d19",
    "_uuid": "8f2839f25d086af736a60e9eeb907d3b93b6e0e5",
    "execution": {
     "iopub.execute_input": "2025-07-23T04:50:11.086551Z",
     "iopub.status.busy": "2025-07-23T04:50:11.086128Z",
     "iopub.status.idle": "2025-07-23T04:50:13.210311Z",
     "shell.execute_reply": "2025-07-23T04:50:13.209349Z"
    },
    "papermill": {
     "duration": 2.132552,
     "end_time": "2025-07-23T04:50:13.212270",
     "exception": false,
     "start_time": "2025-07-23T04:50:11.079718",
     "status": "completed"
    },
    "tags": []
   },
   "outputs": [],
   "source": [
    "import numpy as np\n",
    "import pandas as pd \n",
    "import matplotlib as plt"
   ]
  },
  {
   "cell_type": "markdown",
   "id": "b9c9c84f",
   "metadata": {
    "papermill": {
     "duration": 0.003452,
     "end_time": "2025-07-23T04:50:13.220080",
     "exception": false,
     "start_time": "2025-07-23T04:50:13.216628",
     "status": "completed"
    },
    "tags": []
   },
   "source": [
    "# 데이터 불러오기 및 확인"
   ]
  },
  {
   "cell_type": "code",
   "execution_count": 2,
   "id": "21e32482",
   "metadata": {
    "execution": {
     "iopub.execute_input": "2025-07-23T04:50:13.228895Z",
     "iopub.status.busy": "2025-07-23T04:50:13.228472Z",
     "iopub.status.idle": "2025-07-23T04:50:13.318764Z",
     "shell.execute_reply": "2025-07-23T04:50:13.317796Z"
    },
    "papermill": {
     "duration": 0.096911,
     "end_time": "2025-07-23T04:50:13.320773",
     "exception": false,
     "start_time": "2025-07-23T04:50:13.223862",
     "status": "completed"
    },
    "tags": []
   },
   "outputs": [
    {
     "name": "stdout",
     "output_type": "stream",
     "text": [
      "\n",
      "---Test data Overview---\n",
      "\n",
      "<bound method DataFrame.info of          id  Time_spent_Alone Stage_fear  Social_event_attendance  \\\n",
      "0     18524               3.0         No                      7.0   \n",
      "1     18525               NaN        Yes                      0.0   \n",
      "2     18526               3.0         No                      5.0   \n",
      "3     18527               3.0         No                      4.0   \n",
      "4     18528               9.0        Yes                      1.0   \n",
      "...     ...               ...        ...                      ...   \n",
      "6170  24694               3.0         No                      5.0   \n",
      "6171  24695               8.0        Yes                      2.0   \n",
      "6172  24696               2.0         No                      4.0   \n",
      "6173  24697               3.0         No                      4.0   \n",
      "6174  24698               NaN        Yes                      1.0   \n",
      "\n",
      "      Going_outside Drained_after_socializing  Friends_circle_size  \\\n",
      "0               4.0                        No                  6.0   \n",
      "1               0.0                       Yes                  5.0   \n",
      "2               6.0                        No                 15.0   \n",
      "3               4.0                        No                  5.0   \n",
      "4               2.0                       Yes                  1.0   \n",
      "...             ...                       ...                  ...   \n",
      "6170            5.0                        No                  9.0   \n",
      "6171            1.0                       Yes                  0.0   \n",
      "6172            3.0                        No                  9.0   \n",
      "6173            4.0                        No                 11.0   \n",
      "6174            1.0                       Yes                  1.0   \n",
      "\n",
      "      Post_frequency  \n",
      "0                NaN  \n",
      "1                1.0  \n",
      "2                9.0  \n",
      "3                6.0  \n",
      "4                1.0  \n",
      "...              ...  \n",
      "6170             6.0  \n",
      "6171             0.0  \n",
      "6172             7.0  \n",
      "6173             9.0  \n",
      "6174             0.0  \n",
      "\n",
      "[6175 rows x 8 columns]>\n",
      "\n",
      "---Train data Overview---\n",
      "\n",
      "<bound method DataFrame.info of           id  Time_spent_Alone Stage_fear  Social_event_attendance  \\\n",
      "0          0               0.0         No                      6.0   \n",
      "1          1               1.0         No                      7.0   \n",
      "2          2               6.0        Yes                      1.0   \n",
      "3          3               3.0         No                      7.0   \n",
      "4          4               1.0         No                      4.0   \n",
      "...      ...               ...        ...                      ...   \n",
      "18519  18519               3.0         No                      7.0   \n",
      "18520  18520               1.0        NaN                      6.0   \n",
      "18521  18521               7.0        Yes                      1.0   \n",
      "18522  18522               NaN        Yes                      1.0   \n",
      "18523  18523               1.0         No                      8.0   \n",
      "\n",
      "       Going_outside Drained_after_socializing  Friends_circle_size  \\\n",
      "0                4.0                        No                 15.0   \n",
      "1                3.0                        No                 10.0   \n",
      "2                0.0                       NaN                  3.0   \n",
      "3                3.0                        No                 11.0   \n",
      "4                4.0                        No                 13.0   \n",
      "...              ...                       ...                  ...   \n",
      "18519            3.0                        No                  9.0   \n",
      "18520            7.0                        No                  6.0   \n",
      "18521            1.0                       Yes                  1.0   \n",
      "18522            0.0                       Yes                  5.0   \n",
      "18523            6.0                        No                  4.0   \n",
      "\n",
      "       Post_frequency Personality  \n",
      "0                 5.0   Extrovert  \n",
      "1                 8.0   Extrovert  \n",
      "2                 0.0   Introvert  \n",
      "3                 5.0   Extrovert  \n",
      "4                 NaN   Extrovert  \n",
      "...               ...         ...  \n",
      "18519             7.0   Extrovert  \n",
      "18520             5.0   Extrovert  \n",
      "18521             NaN   Introvert  \n",
      "18522             2.0   Introvert  \n",
      "18523             7.0   Extrovert  \n",
      "\n",
      "[18524 rows x 9 columns]>\n"
     ]
    },
    {
     "name": "stderr",
     "output_type": "stream",
     "text": [
      "/usr/local/lib/python3.11/dist-packages/pandas/io/formats/format.py:1458: RuntimeWarning: invalid value encountered in greater\n",
      "  has_large_values = (abs_vals > 1e6).any()\n",
      "/usr/local/lib/python3.11/dist-packages/pandas/io/formats/format.py:1459: RuntimeWarning: invalid value encountered in less\n",
      "  has_small_values = ((abs_vals < 10 ** (-self.digits)) & (abs_vals > 0)).any()\n",
      "/usr/local/lib/python3.11/dist-packages/pandas/io/formats/format.py:1459: RuntimeWarning: invalid value encountered in greater\n",
      "  has_small_values = ((abs_vals < 10 ** (-self.digits)) & (abs_vals > 0)).any()\n",
      "/usr/local/lib/python3.11/dist-packages/pandas/io/formats/format.py:1458: RuntimeWarning: invalid value encountered in greater\n",
      "  has_large_values = (abs_vals > 1e6).any()\n",
      "/usr/local/lib/python3.11/dist-packages/pandas/io/formats/format.py:1459: RuntimeWarning: invalid value encountered in less\n",
      "  has_small_values = ((abs_vals < 10 ** (-self.digits)) & (abs_vals > 0)).any()\n",
      "/usr/local/lib/python3.11/dist-packages/pandas/io/formats/format.py:1459: RuntimeWarning: invalid value encountered in greater\n",
      "  has_small_values = ((abs_vals < 10 ** (-self.digits)) & (abs_vals > 0)).any()\n"
     ]
    }
   ],
   "source": [
    "train_data = pd.read_csv('/kaggle/input/playground-series-s5e7/train.csv')\n",
    "test_data = pd.read_csv('/kaggle/input/playground-series-s5e7/test.csv')\n",
    "\n",
    "print(\"\\n---Test data Overview---\\n\")\n",
    "print(test_data.info)\n",
    "print(\"\\n---Train data Overview---\\n\")\n",
    "print(train_data.info)"
   ]
  },
  {
   "cell_type": "markdown",
   "id": "1681a8af",
   "metadata": {
    "papermill": {
     "duration": 0.003715,
     "end_time": "2025-07-23T04:50:13.328734",
     "exception": false,
     "start_time": "2025-07-23T04:50:13.325019",
     "status": "completed"
    },
    "tags": []
   },
   "source": [
    "### **결측치 확인**"
   ]
  },
  {
   "cell_type": "code",
   "execution_count": 3,
   "id": "32cdadef",
   "metadata": {
    "execution": {
     "iopub.execute_input": "2025-07-23T04:50:13.337918Z",
     "iopub.status.busy": "2025-07-23T04:50:13.337578Z",
     "iopub.status.idle": "2025-07-23T04:50:13.352377Z",
     "shell.execute_reply": "2025-07-23T04:50:13.351314Z"
    },
    "papermill": {
     "duration": 0.021253,
     "end_time": "2025-07-23T04:50:13.353890",
     "exception": false,
     "start_time": "2025-07-23T04:50:13.332637",
     "status": "completed"
    },
    "tags": []
   },
   "outputs": [
    {
     "name": "stdout",
     "output_type": "stream",
     "text": [
      "\n",
      "--- 각 컬럼별 결측치 개수 ---\n",
      "id                              0\n",
      "Time_spent_Alone             1190\n",
      "Stage_fear                   1893\n",
      "Social_event_attendance      1180\n",
      "Going_outside                1466\n",
      "Drained_after_socializing    1149\n",
      "Friends_circle_size          1054\n",
      "Post_frequency               1264\n",
      "Personality                     0\n",
      "dtype: int64\n",
      "\n",
      "--- 데이터프레임의 총 행 개수 ---\n",
      "18524\n",
      "\n",
      "--- 컬럼별 결측치 비율 ---\n",
      "id                           0.000000\n",
      "Time_spent_Alone             0.064241\n",
      "Stage_fear                   0.102192\n",
      "Social_event_attendance      0.063701\n",
      "Going_outside                0.079141\n",
      "Drained_after_socializing    0.062028\n",
      "Friends_circle_size          0.056899\n",
      "Post_frequency               0.068236\n",
      "Personality                  0.000000\n",
      "dtype: float64\n"
     ]
    }
   ],
   "source": [
    "null_count = train_data.isnull().sum()\n",
    "row_count = train_data.shape[0]\n",
    "\n",
    "print(\"\\n--- 각 컬럼별 결측치 개수 ---\")\n",
    "print(null_count)\n",
    "print(\"\\n--- 데이터프레임의 총 행 개수 ---\")\n",
    "print(row_count)\n",
    "print(\"\\n--- 컬럼별 결측치 비율 ---\")\n",
    "print(null_count/row_count)\n"
   ]
  },
  {
   "cell_type": "markdown",
   "id": "22354173",
   "metadata": {
    "papermill": {
     "duration": 0.003661,
     "end_time": "2025-07-23T04:50:13.361649",
     "exception": false,
     "start_time": "2025-07-23T04:50:13.357988",
     "status": "completed"
    },
    "tags": []
   },
   "source": [
    "### **train data에서 id 제거**"
   ]
  },
  {
   "cell_type": "code",
   "execution_count": 4,
   "id": "162637da",
   "metadata": {
    "execution": {
     "iopub.execute_input": "2025-07-23T04:50:13.370934Z",
     "iopub.status.busy": "2025-07-23T04:50:13.370626Z",
     "iopub.status.idle": "2025-07-23T04:50:13.377353Z",
     "shell.execute_reply": "2025-07-23T04:50:13.376415Z"
    },
    "papermill": {
     "duration": 0.013068,
     "end_time": "2025-07-23T04:50:13.378698",
     "exception": false,
     "start_time": "2025-07-23T04:50:13.365630",
     "status": "completed"
    },
    "tags": []
   },
   "outputs": [
    {
     "name": "stdout",
     "output_type": "stream",
     "text": [
      "columns: ['Time_spent_Alone', 'Stage_fear', 'Social_event_attendance', 'Going_outside', 'Drained_after_socializing', 'Friends_circle_size', 'Post_frequency', 'Personality']\n"
     ]
    }
   ],
   "source": [
    "train_data = train_data.iloc[:,1:]\n",
    "print(\"columns:\",train_data.columns.tolist())"
   ]
  },
  {
   "cell_type": "markdown",
   "id": "b35391a3",
   "metadata": {
    "papermill": {
     "duration": 0.00379,
     "end_time": "2025-07-23T04:50:13.386703",
     "exception": false,
     "start_time": "2025-07-23T04:50:13.382913",
     "status": "completed"
    },
    "tags": []
   },
   "source": [
    "# **KNN Classifier 모델 구축**"
   ]
  },
  {
   "cell_type": "markdown",
   "id": "f8dde2ab",
   "metadata": {
    "papermill": {
     "duration": 0.003621,
     "end_time": "2025-07-23T04:50:13.395243",
     "exception": false,
     "start_time": "2025-07-23T04:50:13.391622",
     "status": "completed"
    },
    "tags": []
   },
   "source": [
    "## **train data 분할하기**"
   ]
  },
  {
   "cell_type": "code",
   "execution_count": 5,
   "id": "a6602ba5",
   "metadata": {
    "execution": {
     "iopub.execute_input": "2025-07-23T04:50:13.404240Z",
     "iopub.status.busy": "2025-07-23T04:50:13.403933Z",
     "iopub.status.idle": "2025-07-23T04:50:15.334578Z",
     "shell.execute_reply": "2025-07-23T04:50:15.333454Z"
    },
    "papermill": {
     "duration": 1.937172,
     "end_time": "2025-07-23T04:50:15.336236",
     "exception": false,
     "start_time": "2025-07-23T04:50:13.399064",
     "status": "completed"
    },
    "tags": []
   },
   "outputs": [
    {
     "name": "stdout",
     "output_type": "stream",
     "text": [
      "columns:  ['Time_spent_Alone', 'Social_event_attendance', 'Going_outside', 'Friends_circle_size', 'Post_frequency', 'Stage_fear_Yes', 'Drained_after_socializing_Yes', 'Personality_Introvert']\n"
     ]
    }
   ],
   "source": [
    "from sklearn.model_selection import train_test_split\n",
    "\n",
    "#categorical variables one-hot encoding\n",
    "train_data = pd.get_dummies(train_data, drop_first=True)\n",
    "print(\"columns: \", train_data.columns.tolist())\n",
    "\n",
    "#spilt train data as train and validation\n",
    "X = train_data[['Time_spent_Alone','Social_event_attendance', 'Going_outside', 'Friends_circle_size', 'Post_frequency', 'Stage_fear_Yes', 'Drained_after_socializing_Yes']]\n",
    "y = train_data[\"Personality_Introvert\"]\n",
    "X_train, X_val, y_train, y_val = train_test_split(X,y,test_size=0.3, random_state = 42)"
   ]
  },
  {
   "cell_type": "markdown",
   "id": "83336947",
   "metadata": {
    "papermill": {
     "duration": 0.003979,
     "end_time": "2025-07-23T04:50:15.344422",
     "exception": false,
     "start_time": "2025-07-23T04:50:15.340443",
     "status": "completed"
    },
    "tags": []
   },
   "source": [
    "## **파이프라인 구축(하이퍼라미터 튜닝,모델학습)**"
   ]
  },
  {
   "cell_type": "code",
   "execution_count": 6,
   "id": "d2df827a",
   "metadata": {
    "execution": {
     "iopub.execute_input": "2025-07-23T04:50:15.354847Z",
     "iopub.status.busy": "2025-07-23T04:50:15.354361Z",
     "iopub.status.idle": "2025-07-23T04:50:15.657708Z",
     "shell.execute_reply": "2025-07-23T04:50:15.656556Z"
    },
    "papermill": {
     "duration": 0.310593,
     "end_time": "2025-07-23T04:50:15.659389",
     "exception": false,
     "start_time": "2025-07-23T04:50:15.348796",
     "status": "completed"
    },
    "tags": []
   },
   "outputs": [],
   "source": [
    "from sklearn.neighbors import KNeighborsClassifier\n",
    "from sklearn.pipeline import Pipeline\n",
    "from sklearn.preprocessing import StandardScaler\n",
    "from sklearn.experimental import enable_iterative_imputer\n",
    "from sklearn.impute import IterativeImputer\n",
    "from sklearn.linear_model import LinearRegression, BayesianRidge\n",
    "from sklearn.model_selection import GridSearchCV"
   ]
  },
  {
   "cell_type": "code",
   "execution_count": 7,
   "id": "351b612b",
   "metadata": {
    "execution": {
     "iopub.execute_input": "2025-07-23T04:50:15.669380Z",
     "iopub.status.busy": "2025-07-23T04:50:15.668991Z",
     "iopub.status.idle": "2025-07-23T04:51:33.138945Z",
     "shell.execute_reply": "2025-07-23T04:51:33.137812Z"
    },
    "papermill": {
     "duration": 77.480897,
     "end_time": "2025-07-23T04:51:33.144657",
     "exception": false,
     "start_time": "2025-07-23T04:50:15.663760",
     "status": "completed"
    },
    "tags": []
   },
   "outputs": [
    {
     "name": "stdout",
     "output_type": "stream",
     "text": [
      "------------------------------------------------------------------------------------------\n",
      "Best parameters found :\n",
      " {'imputer__estimator': LinearRegression(), 'imputer__max_iter': 50, 'imputer__tol': 0.001, 'knn__n_neighbors': 11, 'scaler': None}\n",
      "Best cross validation accuracy : 0.9693815060475076\n"
     ]
    }
   ],
   "source": [
    "pipe = Pipeline(steps=[\n",
    "    (\"scaler\", StandardScaler()),\n",
    "    (\"imputer\",IterativeImputer(random_state=42)),\n",
    "    (\"knn\",KNeighborsClassifier())\n",
    "])\n",
    "\n",
    "param_grid=[{\n",
    "    \"scaler\": [StandardScaler(),None],\n",
    "    \"imputer__estimator\": [LinearRegression(), BayesianRidge()],\n",
    "    \"imputer__max_iter\":[50, 200],\n",
    "    \"imputer__tol\": [1e-3, 5e-3, 1e-2],\n",
    "    \"knn__n_neighbors\":[9,11,13,15]\n",
    "}]\n",
    "\n",
    "search = GridSearchCV(pipe, param_grid, cv=5, scoring = 'accuracy', n_jobs=-1)\n",
    "search.fit(X_train, y_train)\n",
    "\n",
    "print(\"-\"*90)\n",
    "print(\"Best parameters found :\\n\",search.best_params_)\n",
    "print(\"Best cross validation accuracy :\", search.best_score_)\n"
   ]
  },
  {
   "cell_type": "markdown",
   "id": "7fb1c104",
   "metadata": {
    "papermill": {
     "duration": 0.004209,
     "end_time": "2025-07-23T04:51:33.153186",
     "exception": false,
     "start_time": "2025-07-23T04:51:33.148977",
     "status": "completed"
    },
    "tags": []
   },
   "source": [
    "##  **검증데이터로 정확도 테스트**"
   ]
  },
  {
   "cell_type": "code",
   "execution_count": 8,
   "id": "25792570",
   "metadata": {
    "execution": {
     "iopub.execute_input": "2025-07-23T04:51:33.162998Z",
     "iopub.status.busy": "2025-07-23T04:51:33.162665Z",
     "iopub.status.idle": "2025-07-23T04:51:33.171108Z",
     "shell.execute_reply": "2025-07-23T04:51:33.169769Z"
    },
    "papermill": {
     "duration": 0.01521,
     "end_time": "2025-07-23T04:51:33.172630",
     "exception": false,
     "start_time": "2025-07-23T04:51:33.157420",
     "status": "completed"
    },
    "tags": []
   },
   "outputs": [
    {
     "name": "stdout",
     "output_type": "stream",
     "text": [
      "Pipeline(steps=[('scaler', None),\n",
      "                ('imputer',\n",
      "                 IterativeImputer(estimator=LinearRegression(), max_iter=50,\n",
      "                                  random_state=42)),\n",
      "                ('knn', KNeighborsClassifier(n_neighbors=11))])\n"
     ]
    }
   ],
   "source": [
    "#최종 파이프라인 확인\n",
    "final_pipeline = search.best_estimator_\n",
    "print(final_pipeline)"
   ]
  },
  {
   "cell_type": "code",
   "execution_count": 9,
   "id": "b722536b",
   "metadata": {
    "execution": {
     "iopub.execute_input": "2025-07-23T04:51:33.182990Z",
     "iopub.status.busy": "2025-07-23T04:51:33.182674Z",
     "iopub.status.idle": "2025-07-23T04:51:33.575300Z",
     "shell.execute_reply": "2025-07-23T04:51:33.574252Z"
    },
    "papermill": {
     "duration": 0.399801,
     "end_time": "2025-07-23T04:51:33.577248",
     "exception": false,
     "start_time": "2025-07-23T04:51:33.177447",
     "status": "completed"
    },
    "tags": []
   },
   "outputs": [
    {
     "name": "stdout",
     "output_type": "stream",
     "text": [
      "Accuracy: 0.967434328895286\n",
      "classification report\n",
      "               precision    recall  f1-score   support\n",
      "\n",
      "       False       0.98      0.98      0.98      4115\n",
      "        True       0.94      0.93      0.94      1443\n",
      "\n",
      "    accuracy                           0.97      5558\n",
      "   macro avg       0.96      0.96      0.96      5558\n",
      "weighted avg       0.97      0.97      0.97      5558\n",
      "\n",
      "Confusion Matrix\n",
      " [[4036   79]\n",
      " [ 102 1341]]\n"
     ]
    }
   ],
   "source": [
    "from sklearn.metrics import accuracy_score, confusion_matrix, classification_report\n",
    "\n",
    "\n",
    "y_pred = final_pipeline.predict(X_val)\n",
    "\n",
    "print(\"Accuracy:\",accuracy_score(y_val,y_pred))\n",
    "print(\"classification report\\n\",classification_report(y_val,y_pred))\n",
    "print(\"Confusion Matrix\\n\",confusion_matrix(y_val,y_pred))\n",
    "      "
   ]
  },
  {
   "cell_type": "markdown",
   "id": "b4daa3f4",
   "metadata": {
    "papermill": {
     "duration": 0.00407,
     "end_time": "2025-07-23T04:51:33.585976",
     "exception": false,
     "start_time": "2025-07-23T04:51:33.581906",
     "status": "completed"
    },
    "tags": []
   },
   "source": [
    "## **테스트 데이터로 예측**"
   ]
  },
  {
   "cell_type": "code",
   "execution_count": 10,
   "id": "c00add73",
   "metadata": {
    "execution": {
     "iopub.execute_input": "2025-07-23T04:51:33.596613Z",
     "iopub.status.busy": "2025-07-23T04:51:33.596282Z",
     "iopub.status.idle": "2025-07-23T04:51:33.602342Z",
     "shell.execute_reply": "2025-07-23T04:51:33.601261Z"
    },
    "papermill": {
     "duration": 0.013554,
     "end_time": "2025-07-23T04:51:33.604119",
     "exception": false,
     "start_time": "2025-07-23T04:51:33.590565",
     "status": "completed"
    },
    "tags": []
   },
   "outputs": [],
   "source": [
    "test_ids = test_data['id']\n",
    "test_data = test_data.iloc[:,1:]"
   ]
  },
  {
   "cell_type": "code",
   "execution_count": 11,
   "id": "548f818f",
   "metadata": {
    "execution": {
     "iopub.execute_input": "2025-07-23T04:51:33.614366Z",
     "iopub.status.busy": "2025-07-23T04:51:33.614020Z",
     "iopub.status.idle": "2025-07-23T04:51:33.625111Z",
     "shell.execute_reply": "2025-07-23T04:51:33.624091Z"
    },
    "papermill": {
     "duration": 0.017963,
     "end_time": "2025-07-23T04:51:33.626653",
     "exception": false,
     "start_time": "2025-07-23T04:51:33.608690",
     "status": "completed"
    },
    "tags": []
   },
   "outputs": [
    {
     "name": "stdout",
     "output_type": "stream",
     "text": [
      "['Time_spent_Alone', 'Social_event_attendance', 'Going_outside', 'Friends_circle_size', 'Post_frequency', 'Stage_fear_Yes', 'Drained_after_socializing_Yes']\n"
     ]
    }
   ],
   "source": [
    "test_data = pd.get_dummies(test_data,drop_first=True)\n",
    "print(test_data.columns.tolist())"
   ]
  },
  {
   "cell_type": "code",
   "execution_count": 12,
   "id": "3e6c7e22",
   "metadata": {
    "execution": {
     "iopub.execute_input": "2025-07-23T04:51:33.636943Z",
     "iopub.status.busy": "2025-07-23T04:51:33.636632Z",
     "iopub.status.idle": "2025-07-23T04:51:34.067412Z",
     "shell.execute_reply": "2025-07-23T04:51:34.066089Z"
    },
    "papermill": {
     "duration": 0.438043,
     "end_time": "2025-07-23T04:51:34.069248",
     "exception": false,
     "start_time": "2025-07-23T04:51:33.631205",
     "status": "completed"
    },
    "tags": []
   },
   "outputs": [],
   "source": [
    "final_prediction = final_pipeline.predict(test_data)\n",
    "pred_map = {1: 'Introvert',0:'Extrovert'}\n",
    "final_pred_str = [pred_map[p] for p in final_prediction]"
   ]
  },
  {
   "cell_type": "markdown",
   "id": "6a949068",
   "metadata": {
    "papermill": {
     "duration": 0.00406,
     "end_time": "2025-07-23T04:51:34.077957",
     "exception": false,
     "start_time": "2025-07-23T04:51:34.073897",
     "status": "completed"
    },
    "tags": []
   },
   "source": [
    "# submission file 만들기"
   ]
  },
  {
   "cell_type": "code",
   "execution_count": 13,
   "id": "6357b047",
   "metadata": {
    "execution": {
     "iopub.execute_input": "2025-07-23T04:51:34.088111Z",
     "iopub.status.busy": "2025-07-23T04:51:34.087760Z",
     "iopub.status.idle": "2025-07-23T04:51:34.108421Z",
     "shell.execute_reply": "2025-07-23T04:51:34.107237Z"
    },
    "papermill": {
     "duration": 0.027754,
     "end_time": "2025-07-23T04:51:34.110021",
     "exception": false,
     "start_time": "2025-07-23T04:51:34.082267",
     "status": "completed"
    },
    "tags": []
   },
   "outputs": [
    {
     "name": "stdout",
     "output_type": "stream",
     "text": [
      "      id Personality\n",
      "0  18524   Extrovert\n",
      "1  18525   Introvert\n",
      "2  18526   Extrovert\n",
      "3  18527   Extrovert\n",
      "4  18528   Introvert\n",
      "5  18529   Extrovert\n",
      "6  18530   Extrovert\n",
      "7  18531   Introvert\n",
      "8  18532   Extrovert\n",
      "9  18533   Introvert\n"
     ]
    }
   ],
   "source": [
    "submission_df = pd.DataFrame({'id':test_ids,'Personality':final_pred_str})\n",
    "print(submission_df.head(10))\n",
    "submission_df.to_csv('submission.csv',index=False)"
   ]
  }
 ],
 "metadata": {
  "kaggle": {
   "accelerator": "none",
   "dataSources": [
    {
     "databundleVersionId": 12738969,
     "sourceId": 91718,
     "sourceType": "competition"
    }
   ],
   "dockerImageVersionId": 31089,
   "isGpuEnabled": false,
   "isInternetEnabled": false,
   "language": "python",
   "sourceType": "notebook"
  },
  "kernelspec": {
   "display_name": "Python 3",
   "language": "python",
   "name": "python3"
  },
  "language_info": {
   "codemirror_mode": {
    "name": "ipython",
    "version": 3
   },
   "file_extension": ".py",
   "mimetype": "text/x-python",
   "name": "python",
   "nbconvert_exporter": "python",
   "pygments_lexer": "ipython3",
   "version": "3.11.13"
  },
  "papermill": {
   "default_parameters": {},
   "duration": 90.899286,
   "end_time": "2025-07-23T04:51:36.737099",
   "environment_variables": {},
   "exception": null,
   "input_path": "__notebook__.ipynb",
   "output_path": "__notebook__.ipynb",
   "parameters": {},
   "start_time": "2025-07-23T04:50:05.837813",
   "version": "2.6.0"
  }
 },
 "nbformat": 4,
 "nbformat_minor": 5
}
